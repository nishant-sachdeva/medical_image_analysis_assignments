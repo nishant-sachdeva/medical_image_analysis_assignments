{
 "cells": [
  {
   "cell_type": "code",
   "execution_count": 2,
   "id": "voluntary-detective",
   "metadata": {},
   "outputs": [],
   "source": [
    "import cv2\n",
    "import numpy as np\n",
    "import matplotlib.pyplot as plt\n",
    "import pydicom as dicom\n",
    "from PIL import Image"
   ]
  },
  {
   "cell_type": "code",
   "execution_count": 3,
   "id": "spanish-nancy",
   "metadata": {},
   "outputs": [],
   "source": [
    "retina = cv2.imread(\"../data/retina.JPG\")\n",
    "retina = cv2.cvtColor(retina,cv2.COLOR_BGR2RGB)\n",
    "\n",
    "skin = cv2.imread(\"../data/skin.jpg\")\n",
    "skin = cv2.cvtColor(skin,cv2.COLOR_BGR2RGB)\n",
    "\n",
    "retinex_test = cv2.imread(\"../data/retinex_test.png\")\n",
    "retinex_test = cv2.cvtColor(retinex_test,cv2.COLOR_BGR2RGB)\n",
    "\n",
    "# these are the three images that we will test the algo on"
   ]
  },
  {
   "cell_type": "code",
   "execution_count": null,
   "id": "handled-billy",
   "metadata": {},
   "outputs": [],
   "source": [
    "# starting the implementation here\n",
    "\n",
    "def enhancement(image):\n",
    "    green = np.copy(image[:,:,1])\n",
    "    \n",
    "    m,n = np.shape(green)\n",
    "    \n",
    "    w = 50 \n",
    "    mean_array = np.empty((m-w, n-w))\n",
    "    std_array = np.empty((m-w, n-w))\n",
    "    \n",
    "    \n",
    "    for x in range(m-w):\n",
    "        for y in range(n-w):\n",
    "            mean_array[x][y] = np.mean(green[x:x+w][y:y+w])\n",
    "            std_array[x][y] = np.std(green[x:x+w][y:y+w])\n",
    "            \n",
    "            # once we have the std deviation and the mean\n",
    "    \n",
    "    mean_array = cv2.resize(mean_array,(m,n) , interpolation = cv2.INTER_AREA)\n",
    "    std_array = cv2.resize(std_array,(m,n) , interpolation = cv2.INTER_AREA)\n",
    "    \n",
    "    # I have interpolated here , \n",
    "    green = np.divide( np.subtract(green, mean) , std_array)\n",
    "#     for x in range(m):\n",
    "#         for y in range(n):\n",
    "#             green[x][y] = (green[x][y] - mean_array[x][y])/std_array[x][y]\n",
    "            \n",
    "            \n",
    "    # this was about pushing to background and foreground\n",
    "    \n",
    "#     g_channel = image[:,:,1]\n",
    "#     r_channel = image[:,:,0]\n",
    "#     b_channel = image[:,:,2]\n",
    "    \n",
    "    for i in range(3):\n",
    "        image[:,:,i] = np.divide( np.multiply(green, image[:,:,i]) , v)\n",
    "        \n",
    "#     for x in range(m):\n",
    "#         for y in range(n):\n",
    "#             v = np.max( g_channel[x][y] , r_channel[x][y], b_channel[x][y] )\n",
    "#             g_channel[x][y] = ( green[x][y] * g_channel[x][y] ) / v\n",
    "#             r_channel[x][y] = ( green[x][y] * r_channel[x][y] ) / v\n",
    "#             b_channel[x][y] = ( green[x][y] * b_channel[x][y] ) / v\n",
    "    \n",
    "    \n",
    "    return image\n",
    "\n",
    "\n",
    "retina_enhance = enhancement(retina)\n",
    "print(retina_enhance)\n",
    "plt.imshow(retina_enhance)\n",
    "plt.show()\n",
    "\n",
    "# skin_enhance = enhancement(skin)\n",
    "# print(skin_enhance)\n",
    "\n",
    "# test_enhance = enhancement(retinex_test)\n",
    "# print(test_enhance)\n"
   ]
  }
 ],
 "metadata": {
  "kernelspec": {
   "display_name": "Python 3",
   "language": "python",
   "name": "python3"
  },
  "language_info": {
   "codemirror_mode": {
    "name": "ipython",
    "version": 3
   },
   "file_extension": ".py",
   "mimetype": "text/x-python",
   "name": "python",
   "nbconvert_exporter": "python",
   "pygments_lexer": "ipython3",
   "version": "3.6.9"
  }
 },
 "nbformat": 4,
 "nbformat_minor": 5
}
